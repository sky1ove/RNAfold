{
 "cells": [
  {
   "cell_type": "code",
   "execution_count": 2,
   "id": "204fbb47-f052-44b6-aabb-1284cf5d2b86",
   "metadata": {},
   "outputs": [],
   "source": [
    "import pandas as pd"
   ]
  },
  {
   "cell_type": "code",
   "execution_count": 3,
   "id": "653ec812-ee55-4997-a4b0-c55eb401c2c0",
   "metadata": {},
   "outputs": [],
   "source": [
    "sub = pd.read_parquet('SRRF.parquet').iloc[:-1,:]\n",
    "\n",
    "test = pd.read_parquet('test_sequences.parquet')"
   ]
  },
  {
   "cell_type": "code",
   "execution_count": 4,
   "id": "45cada58-1b66-463f-a231-e681df5aa3c9",
   "metadata": {},
   "outputs": [],
   "source": [
    "test['length'] = test.sequence.str.len()"
   ]
  },
  {
   "cell_type": "code",
   "execution_count": 5,
   "id": "ec866bbd-b286-4ae8-9dcb-cf62cfbc0322",
   "metadata": {},
   "outputs": [
    {
     "data": {
      "text/plain": [
       "207    1000000\n",
       "177     335823\n",
       "457       6000\n",
       "307       2000\n",
       "Name: length, dtype: int64"
      ]
     },
     "execution_count": 5,
     "metadata": {},
     "output_type": "execute_result"
    }
   ],
   "source": [
    "test.length.value_counts()"
   ]
  },
  {
   "cell_type": "code",
   "execution_count": 6,
   "id": "8c8ff4df-6500-4d13-804d-290e657748b4",
   "metadata": {},
   "outputs": [],
   "source": [
    "test = test.query('future==1')\n",
    "\n",
    "test['id'] = test.apply(lambda r: list(range(r.id_min,r.id_max+1)), axis=1)\n",
    "\n",
    "t = test[['sequence_id','id']]\n",
    "\n",
    "explode = t.explode('id')\n",
    "\n",
    "explode['id'] = explode.id.astype(int)\n",
    "\n",
    "explode = explode.sort_values('id')"
   ]
  },
  {
   "cell_type": "code",
   "execution_count": 7,
   "id": "cee79f38-0fb7-4d29-b3ab-ee255565bd23",
   "metadata": {},
   "outputs": [],
   "source": [
    "mask = sub.id.isin(explode.id)"
   ]
  },
  {
   "cell_type": "code",
   "execution_count": 9,
   "id": "e286d7d9-172d-4c8c-b340-45241bd191db",
   "metadata": {},
   "outputs": [],
   "source": [
    "sub2 = sub[mask]"
   ]
  },
  {
   "cell_type": "code",
   "execution_count": 11,
   "id": "12ca16f4-f8f4-47b8-a282-d6b83257a5ba",
   "metadata": {},
   "outputs": [
    {
     "data": {
      "text/plain": [
       "(101148736, 3)"
      ]
     },
     "execution_count": 11,
     "metadata": {},
     "output_type": "execute_result"
    }
   ],
   "source": [
    "sub2.shape"
   ]
  },
  {
   "cell_type": "code",
   "execution_count": 12,
   "id": "84046f04-84c7-43a4-9929-fad7b98b0709",
   "metadata": {},
   "outputs": [
    {
     "data": {
      "text/plain": [
       "(210356000, 2)"
      ]
     },
     "execution_count": 12,
     "metadata": {},
     "output_type": "execute_result"
    }
   ],
   "source": [
    "explode.shape"
   ]
  },
  {
   "cell_type": "code",
   "execution_count": 14,
   "id": "dfd2f6ea-c597-4705-bb03-e137a084ff67",
   "metadata": {},
   "outputs": [
    {
     "data": {
      "text/plain": [
       "(210356000, 2)"
      ]
     },
     "execution_count": 14,
     "metadata": {},
     "output_type": "execute_result"
    }
   ],
   "source": [
    "explode.shape"
   ]
  },
  {
   "cell_type": "code",
   "execution_count": null,
   "id": "1e9c1164-4230-4992-8f7f-ca3805b15e21",
   "metadata": {},
   "outputs": [],
   "source": []
  },
  {
   "cell_type": "code",
   "execution_count": null,
   "id": "08110716-4da2-4f85-88d7-3d76784f48ae",
   "metadata": {},
   "outputs": [],
   "source": [
    "merge = explode.merge(sub2,'left')"
   ]
  },
  {
   "cell_type": "code",
   "execution_count": null,
   "id": "a1dd86bd-62b0-42c4-bc4e-5b588382e709",
   "metadata": {},
   "outputs": [],
   "source": [
    "del sub"
   ]
  },
  {
   "cell_type": "code",
   "execution_count": 9,
   "id": "38e043f3-10a4-4aaf-baca-689a9dcce26e",
   "metadata": {},
   "outputs": [],
   "source": [
    "agg = merge.groupby('sequence_id').agg({'reactivity_DMS_MaP': list,'reactivity_2A3_MaP':list})"
   ]
  },
  {
   "cell_type": "code",
   "execution_count": 10,
   "id": "3fdcc79c-9832-4a18-a6a2-57a49c78f533",
   "metadata": {},
   "outputs": [],
   "source": [
    "dms = agg.reactivity_DMS_MaP.apply(pd.Series)"
   ]
  },
  {
   "cell_type": "code",
   "execution_count": 11,
   "id": "d67ff47b-da4a-480a-a77f-0504437c600a",
   "metadata": {},
   "outputs": [
    {
     "data": {
      "text/plain": [
       "0"
      ]
     },
     "execution_count": 11,
     "metadata": {},
     "output_type": "execute_result"
    }
   ],
   "source": [
    "import gc\n",
    "gc.collect()"
   ]
  },
  {
   "cell_type": "code",
   "execution_count": 13,
   "id": "8abfae55-9e58-45fb-bd5a-23f56f0600a6",
   "metadata": {},
   "outputs": [],
   "source": [
    "a3 = agg.reactivity_2A3_MaP.apply(pd.Series)"
   ]
  },
  {
   "cell_type": "code",
   "execution_count": 6,
   "id": "83182b65-f1cf-4f5a-a8dc-103de55e934a",
   "metadata": {},
   "outputs": [],
   "source": [
    "df = pd.read_parquet('train_data.parquet')"
   ]
  },
  {
   "cell_type": "code",
   "execution_count": 10,
   "id": "427fbcc9-9c60-49c7-98eb-0df6c2949de1",
   "metadata": {},
   "outputs": [
    {
     "data": {
      "text/plain": [
       "Index(['sequence_id', 'sequence', 'experiment_type', 'dataset_name', 'reads',\n",
       "       'signal_to_noise', 'SN_filter', 'reactivity_0001', 'reactivity_0002',\n",
       "       'reactivity_0003',\n",
       "       ...\n",
       "       'reactivity_error_0197', 'reactivity_error_0198',\n",
       "       'reactivity_error_0199', 'reactivity_error_0200',\n",
       "       'reactivity_error_0201', 'reactivity_error_0202',\n",
       "       'reactivity_error_0203', 'reactivity_error_0204',\n",
       "       'reactivity_error_0205', 'reactivity_error_0206'],\n",
       "      dtype='object', length=419)"
      ]
     },
     "execution_count": 10,
     "metadata": {},
     "output_type": "execute_result"
    }
   ],
   "source": [
    "df.columns"
   ]
  },
  {
   "cell_type": "code",
   "execution_count": 14,
   "id": "043dec5c-86b4-48c0-8fac-ddee95c48238",
   "metadata": {},
   "outputs": [],
   "source": [
    "col_name = [f'reactivity_000{i}' for i in range(1,178)]"
   ]
  },
  {
   "cell_type": "code",
   "execution_count": 15,
   "id": "b797d740-b0b0-4be8-a42d-e9efa1d099b3",
   "metadata": {},
   "outputs": [
    {
     "data": {
      "text/plain": [
       "177"
      ]
     },
     "execution_count": 15,
     "metadata": {},
     "output_type": "execute_result"
    }
   ],
   "source": [
    "len(col_name)"
   ]
  },
  {
   "cell_type": "code",
   "execution_count": 16,
   "id": "bef1e66c-c546-4df9-a709-33c199e1988d",
   "metadata": {},
   "outputs": [
    {
     "data": {
      "text/plain": [
       "177"
      ]
     },
     "execution_count": 16,
     "metadata": {},
     "output_type": "execute_result"
    }
   ],
   "source": [
    "len(dms.columns)"
   ]
  },
  {
   "cell_type": "code",
   "execution_count": 17,
   "id": "5d31b9ad-d35a-44fb-b8a4-59d61e59e892",
   "metadata": {},
   "outputs": [],
   "source": [
    "dms.columns = col_name\n",
    "a3.columns = col_name"
   ]
  },
  {
   "cell_type": "code",
   "execution_count": 18,
   "id": "0404cfcf-270f-4e02-8e83-2ae3bd36a63c",
   "metadata": {},
   "outputs": [],
   "source": [
    "dms['experiment_type'] = 'DMS_MaP'\n",
    "a3['experiment_type'] = '2A3_MaP'"
   ]
  },
  {
   "cell_type": "code",
   "execution_count": 19,
   "id": "3e4591b3-7a09-4b9d-b232-41782a9ea3f4",
   "metadata": {},
   "outputs": [],
   "source": [
    "dms['signal_to_noise'] = 2\n",
    "a3['signal_to_noise'] = 2"
   ]
  },
  {
   "cell_type": "code",
   "execution_count": 21,
   "id": "67e339ed-7ad9-4143-89ec-420e4f1f4029",
   "metadata": {},
   "outputs": [],
   "source": [
    "dms.to_parquet('dms.parquet')"
   ]
  },
  {
   "cell_type": "code",
   "execution_count": 22,
   "id": "ff3f3423-5553-462b-8566-b870e74e60a6",
   "metadata": {},
   "outputs": [],
   "source": [
    "a3.to_parquet('a3.parquet')"
   ]
  },
  {
   "cell_type": "code",
   "execution_count": 23,
   "id": "91f072dc-f568-43ce-96a0-eb62a85d2599",
   "metadata": {},
   "outputs": [],
   "source": [
    "data = pd.concat([dms.reset_index(),a3.reset_index()])"
   ]
  },
  {
   "cell_type": "code",
   "execution_count": 24,
   "id": "507a9780-241f-4fb7-8412-ee196d5cebf3",
   "metadata": {},
   "outputs": [],
   "source": [
    "seq = test[['sequence_id','sequence']]"
   ]
  },
  {
   "cell_type": "code",
   "execution_count": 25,
   "id": "bf04ad11-cb75-4cbf-a6b5-0369fa56ae5b",
   "metadata": {},
   "outputs": [],
   "source": [
    "data = data.merge(seq)"
   ]
  },
  {
   "cell_type": "code",
   "execution_count": 27,
   "id": "6516692c-41f0-4a81-a27f-28f941c392da",
   "metadata": {},
   "outputs": [],
   "source": [
    "data.to_parquet('public.parquet')"
   ]
  },
  {
   "cell_type": "code",
   "execution_count": null,
   "id": "d8439d4e-95aa-4659-a058-da457e5e48fd",
   "metadata": {},
   "outputs": [],
   "source": []
  }
 ],
 "metadata": {
  "kernelspec": {
   "display_name": "Python 3 (ipykernel)",
   "language": "python",
   "name": "python3"
  },
  "language_info": {
   "codemirror_mode": {
    "name": "ipython",
    "version": 3
   },
   "file_extension": ".py",
   "mimetype": "text/x-python",
   "name": "python",
   "nbconvert_exporter": "python",
   "pygments_lexer": "ipython3",
   "version": "3.9.13"
  }
 },
 "nbformat": 4,
 "nbformat_minor": 5
}
